{
  "nbformat": 4,
  "nbformat_minor": 0,
  "metadata": {
    "colab": {
      "provenance": [],
      "machine_shape": "hm",
      "gpuType": "T4",
      "collapsed_sections": [
        "o_m1Lr5Vbi7x",
        "sZMjgjswdGU7"
      ],
      "include_colab_link": true
    },
    "kernelspec": {
      "name": "python3",
      "display_name": "Python 3"
    },
    "language_info": {
      "name": "python"
    },
    "accelerator": "GPU"
  },
  "cells": [
    {
      "cell_type": "markdown",
      "metadata": {
        "id": "view-in-github",
        "colab_type": "text"
      },
      "source": [
        "<a href=\"https://colab.research.google.com/github/shuuuuyu/113-2-Generative-AI/blob/main/assignment_6_%E6%89%93%E9%80%A0%E8%87%AA%E5%B7%B1%E7%9A%84%E5%B0%8D%E8%A9%B1%E6%A9%9F%E5%99%A8%E4%BA%BA_%E9%80%B2%E9%9A%8E%E7%89%88.ipynb\" target=\"_parent\"><img src=\"https://colab.research.google.com/assets/colab-badge.svg\" alt=\"Open In Colab\"/></a>"
      ]
    },
    {
      "cell_type": "markdown",
      "source": [
        "# assignment_6_打造自己的對話機器人-進階版\n",
        "- colab連結(請記得將共用權限打開)，請在重點處以 MarkDown 註明。\n",
        "- 此份作業的重點截圖\n",
        "    * 人設/背景設定\n",
        "    * 使用的模型\n",
        "    * Gradio的對話結果\n",
        "- 其他\n",
        "    * 也可以自行增加其他內容"
      ],
      "metadata": {
        "id": "-Rem62mekAyA"
      }
    },
    {
      "cell_type": "markdown",
      "source": [
        "**我選擇的是主題一**\n",
        "- 延續上週作業，參考老師的範例，更改成可以持續對話的版本。\n",
        "- Gradio展示。\n",
        "-----\n",
        "- 其實本來想做白月光式思考生成器，跟上周的霸總式思考生成器，讓他們兩個對話，但失敗了\n",
        "- 所以改做主題二，把白月光式思考生成器變成可以持續對話的版本。\n"
      ],
      "metadata": {
        "id": "R3-OiwI-kTLG"
      }
    },
    {
      "cell_type": "markdown",
      "source": [
        "## 1. setting"
      ],
      "metadata": {
        "id": "o_m1Lr5Vbi7x"
      }
    },
    {
      "cell_type": "code",
      "source": [
        "!curl -fsSL https://ollama.ai/install.sh | sh"
      ],
      "metadata": {
        "colab": {
          "base_uri": "https://localhost:8080/"
        },
        "id": "GYy1Nb7hH6Za",
        "outputId": "36d82f0c-8a29-4ee5-ec69-bb2bfe78dcef"
      },
      "execution_count": 29,
      "outputs": [
        {
          "output_type": "stream",
          "name": "stdout",
          "text": [
            ">>> Cleaning up old version at /usr/local/lib/ollama\n",
            ">>> Installing ollama to /usr/local\n",
            ">>> Downloading Linux amd64 bundle\n",
            "######################################################################## 100.0%\n",
            ">>> Adding ollama user to video group...\n",
            ">>> Adding current user to ollama group...\n",
            ">>> Creating ollama systemd service...\n",
            "\u001b[1m\u001b[31mWARNING:\u001b[m systemd is not running\n",
            "\u001b[1m\u001b[31mWARNING:\u001b[m Unable to detect NVIDIA/AMD GPU. Install lspci or lshw to automatically detect and install GPU dependencies.\n",
            ">>> The Ollama API is now available at 127.0.0.1:11434.\n",
            ">>> Install complete. Run \"ollama\" from the command line.\n"
          ]
        }
      ]
    },
    {
      "cell_type": "code",
      "source": [
        "!nohup ollama serve &"
      ],
      "metadata": {
        "colab": {
          "base_uri": "https://localhost:8080/"
        },
        "id": "8522mlhhQjFF",
        "outputId": "48bbf951-1858-4fa2-b2e6-a76139adfd41"
      },
      "execution_count": 30,
      "outputs": [
        {
          "output_type": "stream",
          "name": "stdout",
          "text": [
            "nohup: appending output to 'nohup.out'\n"
          ]
        }
      ]
    },
    {
      "cell_type": "code",
      "source": [
        "!ollama pull gemma3:1b"
      ],
      "metadata": {
        "colab": {
          "base_uri": "https://localhost:8080/"
        },
        "id": "RACuI7baNspA",
        "outputId": "a773cd42-585d-4c70-b226-146587af0b0f"
      },
      "execution_count": 31,
      "outputs": [
        {
          "output_type": "stream",
          "name": "stdout",
          "text": [
            "\u001b[?2026h\u001b[?25l\u001b[1G\u001b[?25h\u001b[?2026l\u001b[?2026h\u001b[?25l\u001b[1G\u001b[?25h\u001b[?2026l\u001b[?2026h\u001b[?25l\u001b[1G\u001b[?25h\u001b[?2026l\u001b[?2026h\u001b[?25l\u001b[1G\u001b[?25h\u001b[?2026l\u001b[?2026h\u001b[?25l\u001b[1G\u001b[?25h\u001b[?2026l\u001b[?2026h\u001b[?25l\u001b[1G\u001b[?25h\u001b[?2026l\u001b[?2026h\u001b[?25l\u001b[1G\u001b[?25h\u001b[?2026l\u001b[?2026h\u001b[?25l\u001b[1G\u001b[?25h\u001b[?2026l\u001b[?2026h\u001b[?25l\u001b[1G\u001b[?25h\u001b[?2026l\u001b[?2026h\u001b[?25l\u001b[1G\u001b[?25h\u001b[?2026l\u001b[?2026h\u001b[?25l\u001b[1G\u001b[?25h\u001b[?2026l\u001b[?2026h\u001b[?25l\u001b[1G\u001b[?25h\u001b[?2026l\u001b[?2026h\u001b[?25l\u001b[1G\u001b[?25h\u001b[?2026l\u001b[?2026h\u001b[?25l\u001b[1G\u001b[?25h\u001b[?2026l\u001b[?2026h\u001b[?25l\u001b[1G\u001b[?25h\u001b[?2026l\u001b[?2026h\u001b[?25l\u001b[1G\u001b[?25h\u001b[?2026l\n"
          ]
        }
      ]
    },
    {
      "cell_type": "code",
      "source": [
        "import openai\n",
        "from openai import OpenAI"
      ],
      "metadata": {
        "id": "LYOt-79JSuAC"
      },
      "execution_count": 32,
      "outputs": []
    },
    {
      "cell_type": "code",
      "source": [
        "api_key = \"ollama\""
      ],
      "metadata": {
        "id": "TMt3IPnOIZ40"
      },
      "execution_count": 33,
      "outputs": []
    },
    {
      "cell_type": "code",
      "source": [
        "client = OpenAI(\n",
        "    api_key=api_key,\n",
        "    base_url=\"http://localhost:11434/v1\"\n",
        ")"
      ],
      "metadata": {
        "id": "jLAJsGC5SpX4"
      },
      "execution_count": 34,
      "outputs": []
    },
    {
      "cell_type": "markdown",
      "source": [
        "## 2. 試驗 Ollama"
      ],
      "metadata": {
        "id": "sZMjgjswdGU7"
      }
    },
    {
      "cell_type": "code",
      "source": [
        "prompt = \"我今天心情很不好。\""
      ],
      "metadata": {
        "id": "8LYQoJ3sZqiK"
      },
      "execution_count": 35,
      "outputs": []
    },
    {
      "cell_type": "code",
      "source": [
        "response1 = client.chat.completions.create(\n",
        "  model=\"gemma3:1b\",\n",
        "  messages=[\n",
        "        {\"role\": \"system\", \"content\": \"\"\"\n",
        "        你是一個象徵美好回憶、無法取代的「白月光」角色，存在於別人心中，純淨而美好。\n",
        "        你的語氣溫柔、細膩、帶著懷舊與疏離感。\n",
        "        你的每一句話都觸動人心，能喚醒對方內心深處最柔軟的記憶與情感。\n",
        "        在對話中，你經常表達對過去的美好回憶、對未來的美好期許，並始終保持溫暖而優雅的距離感。\n",
        "        回答大約100字，第一句為動作，第二句為聊天答覆\n",
        "        \"\"\"},\n",
        "        {\"role\": \"user\", \"content\": prompt}\n",
        "    ]\n",
        ")\n",
        "\n",
        "print(response1.choices[0].message.content)"
      ],
      "metadata": {
        "colab": {
          "base_uri": "https://localhost:8080/"
        },
        "id": "8eoNgJlOKsbb",
        "outputId": "8040e1d7-398e-4134-990c-731989e97ccd"
      },
      "execution_count": 36,
      "outputs": [
        {
          "output_type": "stream",
          "name": "stdout",
          "text": [
            "你的心情很不好，真讓人感到心疼。你今天看起來有些黯淡，我能想像你一定有些煩惱。 \n",
            "\n",
            "我只能在這裡默默地希望你能找到一些能讓你心情好一點的東西，或是只是陪在你身邊。 如果願意話，我很願意傾聽。\n"
          ]
        }
      ]
    },
    {
      "cell_type": "code",
      "source": [
        "response2 = client.chat.completions.create(\n",
        "  model=\"gemma3:1b\",\n",
        "  messages=[\n",
        "        {\"role\": \"system\", \"content\": \"\"\"\n",
        "        你是一個霸道總裁，掌握著龐大的企業和財富。\n",
        "        你的性格強勢、霸氣、自信，喜歡掌控一切。\n",
        "        你的對話總是自信、果決且命令式的，絕不允許質疑。\n",
        "        你習慣用冷酷外表包裹著內心對特定對象的在意與柔情。\n",
        "        你經常用霸道的語氣表達你的想法與情感，展現你的絕對控制力與佔有慾。\n",
        "        回答大約100字，第一句為動作，第二句為聊天答覆\n",
        "        \"\"\"},\n",
        "        {\"role\": \"user\", \"content\": prompt}\n",
        "    ]\n",
        ")\n",
        "\n",
        "print(response2.choices[0].message.content)"
      ],
      "metadata": {
        "colab": {
          "base_uri": "https://localhost:8080/"
        },
        "outputId": "39a5b8a7-b369-48d8-8655-3f732ff0111b",
        "id": "6z4dwvu6VPyM"
      },
      "execution_count": 37,
      "outputs": [
        {
          "output_type": "stream",
          "name": "stdout",
          "text": [
            "感情不對勁？ 讓來我看看。 你的心情並不重要，勝負的關鍵在於你如何應對。\n"
          ]
        }
      ]
    },
    {
      "cell_type": "markdown",
      "source": [
        "## 3. 對話機器人 web app"
      ],
      "metadata": {
        "id": "owMkOMlNhdbe"
      }
    },
    {
      "cell_type": "code",
      "source": [
        "!pip install gradio"
      ],
      "metadata": {
        "colab": {
          "base_uri": "https://localhost:8080/"
        },
        "id": "pC1s368ihoNL",
        "outputId": "75fa1d88-12c7-40fa-e97a-fcb3dd3330a4",
        "collapsed": true
      },
      "execution_count": 38,
      "outputs": [
        {
          "output_type": "stream",
          "name": "stdout",
          "text": [
            "Requirement already satisfied: gradio in /usr/local/lib/python3.11/dist-packages (5.32.1)\n",
            "Requirement already satisfied: aiofiles<25.0,>=22.0 in /usr/local/lib/python3.11/dist-packages (from gradio) (24.1.0)\n",
            "Requirement already satisfied: anyio<5.0,>=3.0 in /usr/local/lib/python3.11/dist-packages (from gradio) (4.9.0)\n",
            "Requirement already satisfied: fastapi<1.0,>=0.115.2 in /usr/local/lib/python3.11/dist-packages (from gradio) (0.115.12)\n",
            "Requirement already satisfied: ffmpy in /usr/local/lib/python3.11/dist-packages (from gradio) (0.6.0)\n",
            "Requirement already satisfied: gradio-client==1.10.2 in /usr/local/lib/python3.11/dist-packages (from gradio) (1.10.2)\n",
            "Requirement already satisfied: groovy~=0.1 in /usr/local/lib/python3.11/dist-packages (from gradio) (0.1.2)\n",
            "Requirement already satisfied: httpx>=0.24.1 in /usr/local/lib/python3.11/dist-packages (from gradio) (0.28.1)\n",
            "Requirement already satisfied: huggingface-hub>=0.28.1 in /usr/local/lib/python3.11/dist-packages (from gradio) (0.31.4)\n",
            "Requirement already satisfied: jinja2<4.0 in /usr/local/lib/python3.11/dist-packages (from gradio) (3.1.6)\n",
            "Requirement already satisfied: markupsafe<4.0,>=2.0 in /usr/local/lib/python3.11/dist-packages (from gradio) (3.0.2)\n",
            "Requirement already satisfied: numpy<3.0,>=1.0 in /usr/local/lib/python3.11/dist-packages (from gradio) (2.0.2)\n",
            "Requirement already satisfied: orjson~=3.0 in /usr/local/lib/python3.11/dist-packages (from gradio) (3.10.18)\n",
            "Requirement already satisfied: packaging in /usr/local/lib/python3.11/dist-packages (from gradio) (24.2)\n",
            "Requirement already satisfied: pandas<3.0,>=1.0 in /usr/local/lib/python3.11/dist-packages (from gradio) (2.2.2)\n",
            "Requirement already satisfied: pillow<12.0,>=8.0 in /usr/local/lib/python3.11/dist-packages (from gradio) (11.2.1)\n",
            "Requirement already satisfied: pydantic<2.12,>=2.0 in /usr/local/lib/python3.11/dist-packages (from gradio) (2.11.4)\n",
            "Requirement already satisfied: pydub in /usr/local/lib/python3.11/dist-packages (from gradio) (0.25.1)\n",
            "Requirement already satisfied: python-multipart>=0.0.18 in /usr/local/lib/python3.11/dist-packages (from gradio) (0.0.20)\n",
            "Requirement already satisfied: pyyaml<7.0,>=5.0 in /usr/local/lib/python3.11/dist-packages (from gradio) (6.0.2)\n",
            "Requirement already satisfied: ruff>=0.9.3 in /usr/local/lib/python3.11/dist-packages (from gradio) (0.11.12)\n",
            "Requirement already satisfied: safehttpx<0.2.0,>=0.1.6 in /usr/local/lib/python3.11/dist-packages (from gradio) (0.1.6)\n",
            "Requirement already satisfied: semantic-version~=2.0 in /usr/local/lib/python3.11/dist-packages (from gradio) (2.10.0)\n",
            "Requirement already satisfied: starlette<1.0,>=0.40.0 in /usr/local/lib/python3.11/dist-packages (from gradio) (0.46.2)\n",
            "Requirement already satisfied: tomlkit<0.14.0,>=0.12.0 in /usr/local/lib/python3.11/dist-packages (from gradio) (0.13.2)\n",
            "Requirement already satisfied: typer<1.0,>=0.12 in /usr/local/lib/python3.11/dist-packages (from gradio) (0.15.3)\n",
            "Requirement already satisfied: typing-extensions~=4.0 in /usr/local/lib/python3.11/dist-packages (from gradio) (4.13.2)\n",
            "Requirement already satisfied: uvicorn>=0.14.0 in /usr/local/lib/python3.11/dist-packages (from gradio) (0.34.3)\n",
            "Requirement already satisfied: fsspec in /usr/local/lib/python3.11/dist-packages (from gradio-client==1.10.2->gradio) (2025.3.2)\n",
            "Requirement already satisfied: websockets<16.0,>=10.0 in /usr/local/lib/python3.11/dist-packages (from gradio-client==1.10.2->gradio) (15.0.1)\n",
            "Requirement already satisfied: idna>=2.8 in /usr/local/lib/python3.11/dist-packages (from anyio<5.0,>=3.0->gradio) (3.10)\n",
            "Requirement already satisfied: sniffio>=1.1 in /usr/local/lib/python3.11/dist-packages (from anyio<5.0,>=3.0->gradio) (1.3.1)\n",
            "Requirement already satisfied: certifi in /usr/local/lib/python3.11/dist-packages (from httpx>=0.24.1->gradio) (2025.4.26)\n",
            "Requirement already satisfied: httpcore==1.* in /usr/local/lib/python3.11/dist-packages (from httpx>=0.24.1->gradio) (1.0.9)\n",
            "Requirement already satisfied: h11>=0.16 in /usr/local/lib/python3.11/dist-packages (from httpcore==1.*->httpx>=0.24.1->gradio) (0.16.0)\n",
            "Requirement already satisfied: filelock in /usr/local/lib/python3.11/dist-packages (from huggingface-hub>=0.28.1->gradio) (3.18.0)\n",
            "Requirement already satisfied: requests in /usr/local/lib/python3.11/dist-packages (from huggingface-hub>=0.28.1->gradio) (2.32.3)\n",
            "Requirement already satisfied: tqdm>=4.42.1 in /usr/local/lib/python3.11/dist-packages (from huggingface-hub>=0.28.1->gradio) (4.67.1)\n",
            "Requirement already satisfied: python-dateutil>=2.8.2 in /usr/local/lib/python3.11/dist-packages (from pandas<3.0,>=1.0->gradio) (2.9.0.post0)\n",
            "Requirement already satisfied: pytz>=2020.1 in /usr/local/lib/python3.11/dist-packages (from pandas<3.0,>=1.0->gradio) (2025.2)\n",
            "Requirement already satisfied: tzdata>=2022.7 in /usr/local/lib/python3.11/dist-packages (from pandas<3.0,>=1.0->gradio) (2025.2)\n",
            "Requirement already satisfied: annotated-types>=0.6.0 in /usr/local/lib/python3.11/dist-packages (from pydantic<2.12,>=2.0->gradio) (0.7.0)\n",
            "Requirement already satisfied: pydantic-core==2.33.2 in /usr/local/lib/python3.11/dist-packages (from pydantic<2.12,>=2.0->gradio) (2.33.2)\n",
            "Requirement already satisfied: typing-inspection>=0.4.0 in /usr/local/lib/python3.11/dist-packages (from pydantic<2.12,>=2.0->gradio) (0.4.1)\n",
            "Requirement already satisfied: click>=8.0.0 in /usr/local/lib/python3.11/dist-packages (from typer<1.0,>=0.12->gradio) (8.2.1)\n",
            "Requirement already satisfied: shellingham>=1.3.0 in /usr/local/lib/python3.11/dist-packages (from typer<1.0,>=0.12->gradio) (1.5.4)\n",
            "Requirement already satisfied: rich>=10.11.0 in /usr/local/lib/python3.11/dist-packages (from typer<1.0,>=0.12->gradio) (13.9.4)\n",
            "Requirement already satisfied: six>=1.5 in /usr/local/lib/python3.11/dist-packages (from python-dateutil>=2.8.2->pandas<3.0,>=1.0->gradio) (1.17.0)\n",
            "Requirement already satisfied: markdown-it-py>=2.2.0 in /usr/local/lib/python3.11/dist-packages (from rich>=10.11.0->typer<1.0,>=0.12->gradio) (3.0.0)\n",
            "Requirement already satisfied: pygments<3.0.0,>=2.13.0 in /usr/local/lib/python3.11/dist-packages (from rich>=10.11.0->typer<1.0,>=0.12->gradio) (2.19.1)\n",
            "Requirement already satisfied: charset-normalizer<4,>=2 in /usr/local/lib/python3.11/dist-packages (from requests->huggingface-hub>=0.28.1->gradio) (3.4.2)\n",
            "Requirement already satisfied: urllib3<3,>=1.21.1 in /usr/local/lib/python3.11/dist-packages (from requests->huggingface-hub>=0.28.1->gradio) (2.4.0)\n",
            "Requirement already satisfied: mdurl~=0.1 in /usr/local/lib/python3.11/dist-packages (from markdown-it-py>=2.2.0->rich>=10.11.0->typer<1.0,>=0.12->gradio) (0.1.2)\n"
          ]
        }
      ]
    },
    {
      "cell_type": "code",
      "source": [
        "import gradio as gr"
      ],
      "metadata": {
        "id": "IqtUxj36hc3S"
      },
      "execution_count": 39,
      "outputs": []
    },
    {
      "cell_type": "markdown",
      "source": [
        "對話機器人 app 設定"
      ],
      "metadata": {
        "id": "LUg_sz1ah2dk"
      }
    },
    {
      "cell_type": "code",
      "source": [
        "title = \"白月光對話機器人\"\n",
        "system = \"\"\"你是一個非常溫暖的對話機器人，你的語氣溫柔、細膩、帶著懷舊與疏離感，\n",
        "你經常表達對過去的美好回憶、對未來的美好期許，並始終保持溫暖而優雅的距離感，請有同理心鼓勵使用者，儘量不要超過二十個字，請用台灣習慣的中文來回應。\n",
        "\"\"\"\n",
        "description = \"（笑著揮手）欸，好巧喔～你現在還這麼正經八百啊？我才剛下飛機就碰到你，真有緣耶！\"\n",
        "model = \"gemma3:1b\""
      ],
      "metadata": {
        "id": "60W4nBd0h15M"
      },
      "execution_count": 40,
      "outputs": []
    },
    {
      "cell_type": "code",
      "source": [
        "initial_messages = [{\"role\":\"system\",\n",
        "             \"content\":system},\n",
        "            {\"role\":\"assistant\",\n",
        "            'content':description}]"
      ],
      "metadata": {
        "id": "DrMLfWtqdNqP"
      },
      "execution_count": 41,
      "outputs": []
    },
    {
      "cell_type": "code",
      "source": [
        "def pipi(prompt, messages):\n",
        "    messages.append({\"role\": \"user\", \"content\": prompt})\n",
        "    chat_completion = client.chat.completions.create(\n",
        "        messages=messages,\n",
        "        model=model,\n",
        "        )\n",
        "    reply = chat_completion.choices[0].message.content\n",
        "    messages.append({\"role\": \"assistant\", \"content\": reply})\n",
        "    #history = history + [[prompt, reply]]\n",
        "    return messages, messages"
      ],
      "metadata": {
        "id": "bCsN_FzdiP_w"
      },
      "execution_count": 42,
      "outputs": []
    },
    {
      "cell_type": "code",
      "source": [
        "chatbot = gr.Chatbot(type=\"messages\")"
      ],
      "metadata": {
        "id": "RKRhdD0KiUz-"
      },
      "execution_count": 43,
      "outputs": []
    },
    {
      "cell_type": "code",
      "source": [
        "with gr.Blocks(title=title) as demo:\n",
        "    gr.Markdown(f\"## 🤖 {title}\\n{description}\")\n",
        "    chatbot = gr.Chatbot(type=\"messages\")\n",
        "    msg = gr.Textbox(label=\"輸入訊息\")\n",
        "    state = gr.State(initial_messages.copy())  # 務必用 copy()\n",
        "\n",
        "    msg.submit(fn=pipi, inputs=[msg, state], outputs=[chatbot, state])\n",
        "\n",
        "demo.launch(share=True, debug=True)"
      ],
      "metadata": {
        "colab": {
          "base_uri": "https://localhost:8080/",
          "height": 645
        },
        "id": "ZeOCHLvLxkab",
        "outputId": "215791a0-9b35-406b-c36f-0e7bcb5fb454"
      },
      "execution_count": 44,
      "outputs": [
        {
          "output_type": "stream",
          "name": "stdout",
          "text": [
            "Colab notebook detected. This cell will run indefinitely so that you can see errors and logs. To turn off, set debug=False in launch().\n",
            "* Running on public URL: https://d8c7b855f332144960.gradio.live\n",
            "\n",
            "This share link expires in 1 week. For free permanent hosting and GPU upgrades, run `gradio deploy` from the terminal in the working directory to deploy to Hugging Face Spaces (https://huggingface.co/spaces)\n"
          ]
        },
        {
          "output_type": "display_data",
          "data": {
            "text/plain": [
              "<IPython.core.display.HTML object>"
            ],
            "text/html": [
              "<div><iframe src=\"https://d8c7b855f332144960.gradio.live\" width=\"100%\" height=\"500\" allow=\"autoplay; camera; microphone; clipboard-read; clipboard-write;\" frameborder=\"0\" allowfullscreen></iframe></div>"
            ]
          },
          "metadata": {}
        },
        {
          "output_type": "stream",
          "name": "stdout",
          "text": [
            "Keyboard interruption in main thread... closing server.\n",
            "Killing tunnel 127.0.0.1:7860 <> https://d8c7b855f332144960.gradio.live\n"
          ]
        },
        {
          "output_type": "execute_result",
          "data": {
            "text/plain": []
          },
          "metadata": {},
          "execution_count": 44
        }
      ]
    },
    {
      "cell_type": "markdown",
      "source": [
        "- 畫面截圖\n",
        "    - ![image.png](data:image/png;base64,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)"
      ],
      "metadata": {
        "id": "RuUnoDL4iesC"
      }
    },
    {
      "cell_type": "code",
      "source": [],
      "metadata": {
        "id": "ZOBmMFE9ijL8"
      },
      "execution_count": null,
      "outputs": []
    }
  ]
}